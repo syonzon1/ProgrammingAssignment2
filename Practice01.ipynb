{
  "nbformat": 4,
  "nbformat_minor": 0,
  "metadata": {
    "colab": {
      "provenance": [],
      "authorship_tag": "ABX9TyNWK5aOOksT4Xrmb8s83Nbx",
      "include_colab_link": true
    },
    "kernelspec": {
      "name": "python3",
      "display_name": "Python 3"
    },
    "language_info": {
      "name": "python"
    }
  },
  "cells": [
    {
      "cell_type": "markdown",
      "metadata": {
        "id": "view-in-github",
        "colab_type": "text"
      },
      "source": [
        "<a href=\"https://colab.research.google.com/github/syonzon1/ProgrammingAssignment2/blob/master/Practice01.ipynb\" target=\"_parent\"><img src=\"https://colab.research.google.com/assets/colab-badge.svg\" alt=\"Open In Colab\"/></a>"
      ]
    },
    {
      "cell_type": "markdown",
      "source": [
        "\n",
        "\n",
        "```\n",
        "You can only use one line of code\n",
        "Make a new list with only names starting with 'a' \n",
        "Capitalize and add their surnames 'Smith\n",
        "names = ['henry', 'alex', 'tim','alison','ariel']\n",
        "```\n",
        "\n"
      ],
      "metadata": {
        "id": "wCXLRulhRkNI"
      }
    },
    {
      "cell_type": "code",
      "source": [
        "names = ['henry', 'alex', 'tim','alison','ariel']"
      ],
      "metadata": {
        "id": "cOVj3lhNSxm-"
      },
      "execution_count": 6,
      "outputs": []
    },
    {
      "cell_type": "code",
      "source": [
        "a= filter(lambda names: names[0] == 'a',names)\n",
        "print(list(a))"
      ],
      "metadata": {
        "colab": {
          "base_uri": "https://localhost:8080/"
        },
        "id": "rbQkBFwmSPBs",
        "outputId": "3b4a991c-f00a-4038-a7db-56e4092e79e4"
      },
      "execution_count": 26,
      "outputs": [
        {
          "output_type": "stream",
          "name": "stdout",
          "text": [
            "['alex', 'alison', 'ariel']\n"
          ]
        }
      ]
    },
    {
      "cell_type": "code",
      "execution_count": 27,
      "metadata": {
        "colab": {
          "base_uri": "https://localhost:8080/"
        },
        "id": "lVAN7rJ4RJ8f",
        "outputId": "880a92ce-60e5-4755-b338-341338ad4a0e"
      },
      "outputs": [
        {
          "output_type": "stream",
          "name": "stdout",
          "text": [
            "['Alex Smith', 'Alison Smith', 'Ariel Smith']\n"
          ]
        }
      ],
      "source": [
        "b = map(lambda x: x.capitalize() +  ' Smith',filter(lambda names: names[0] == 'a',names)) #capitalize and filter\n",
        "print(list(b))"
      ]
    },
    {
      "cell_type": "code",
      "source": [
        "print(\", \".join(map(lambda x: x.capitalize() +  ' Smith',filter(lambda names: names[0] == 'a',names)))) #in onE sentence\n"
      ],
      "metadata": {
        "colab": {
          "base_uri": "https://localhost:8080/"
        },
        "id": "EaD5bevESPE8",
        "outputId": "563e6bd2-ac43-451e-ff2d-8701d8062f71"
      },
      "execution_count": 24,
      "outputs": [
        {
          "output_type": "stream",
          "name": "stdout",
          "text": [
            "Alex Smith, Alison Smith, Ariel Smith\n"
          ]
        }
      ]
    },
    {
      "cell_type": "markdown",
      "source": [
        "Def Multipliers()"
      ],
      "metadata": {
        "id": "3YuHwoT4qQcR"
      }
    },
    {
      "cell_type": "code",
      "source": [
        "def multiplier():\n",
        "  return [lambda x, i=i:i*x for i in range(4)] #(0,1,2,3)\n",
        "\n",
        "print([m(2) for m in multiplier()]) #(2,2,4,6)\n",
        "print([m(3) for m in multiplier()]) #(0,3,6,9)"
      ],
      "metadata": {
        "colab": {
          "base_uri": "https://localhost:8080/"
        },
        "id": "GUED3zt7SPIV",
        "outputId": "1271e57e-e09f-4a32-b650-d26d933a0d68"
      },
      "execution_count": 3,
      "outputs": [
        {
          "output_type": "stream",
          "name": "stdout",
          "text": [
            "[0, 2, 4, 6]\n",
            "[0, 3, 6, 9]\n"
          ]
        }
      ]
    },
    {
      "cell_type": "markdown",
      "source": [
        "FUNCTION with def keywords"
      ],
      "metadata": {
        "id": "wjqKUIXOEpEM"
      }
    },
    {
      "cell_type": "code",
      "source": [
        "def absolute_value(num):\n",
        "  \"\"\"This function returns the absolute value of entered number\"\"\"\n",
        "  if num>=0:\n",
        "    return num\n",
        "  else: \n",
        "    return -num\n",
        "print(absolute_value(2))\n",
        "print(absolute_value(-23))\n"
      ],
      "metadata": {
        "colab": {
          "base_uri": "https://localhost:8080/"
        },
        "id": "rUmUmUdISPN7",
        "outputId": "6d9d5fad-5958-453b-cb1d-86778f91c729"
      },
      "execution_count": 1,
      "outputs": [
        {
          "output_type": "stream",
          "name": "stdout",
          "text": [
            "2\n",
            "23\n"
          ]
        }
      ]
    },
    {
      "cell_type": "markdown",
      "source": [
        "Module creating Calc.py"
      ],
      "metadata": {
        "id": "JsBiG-cjL972"
      }
    },
    {
      "cell_type": "code",
      "source": [
        "def add(a,b):\n",
        "  return a+b\n",
        "def sub(a,b):\n",
        "  return a-b\n",
        "def mul(a,b):\n",
        "  return a*b\n",
        "def div(a,b):\n",
        "  return a/b\n",
        "  calc.py  \n",
        " "
      ],
      "metadata": {
        "id": "xFMZ_3PKSPWo"
      },
      "execution_count": 27,
      "outputs": []
    },
    {
      "cell_type": "code",
      "source": [
        "import calc\n",
        "\n",
        "a = 2\n",
        "b = 3\n",
        "print(calc.add(a,b))\n",
        "print(calc.sub(a,b))\n",
        "  \n"
      ],
      "metadata": {
        "colab": {
          "base_uri": "https://localhost:8080/",
          "height": 373
        },
        "id": "eW1sPkECM1dd",
        "outputId": "98d587df-474a-4676-90ba-f1f4bec61a66"
      },
      "execution_count": 28,
      "outputs": [
        {
          "output_type": "error",
          "ename": "ModuleNotFoundError",
          "evalue": "ignored",
          "traceback": [
            "\u001b[0;31m---------------------------------------------------------------------------\u001b[0m",
            "\u001b[0;31mModuleNotFoundError\u001b[0m                       Traceback (most recent call last)",
            "\u001b[0;32m<ipython-input-28-5787bbe2fedf>\u001b[0m in \u001b[0;36m<module>\u001b[0;34m\u001b[0m\n\u001b[0;32m----> 1\u001b[0;31m \u001b[0;32mimport\u001b[0m \u001b[0mcalc\u001b[0m\u001b[0;34m\u001b[0m\u001b[0;34m\u001b[0m\u001b[0m\n\u001b[0m\u001b[1;32m      2\u001b[0m \u001b[0;34m\u001b[0m\u001b[0m\n\u001b[1;32m      3\u001b[0m \u001b[0ma\u001b[0m \u001b[0;34m=\u001b[0m \u001b[0;36m2\u001b[0m\u001b[0;34m\u001b[0m\u001b[0;34m\u001b[0m\u001b[0m\n\u001b[1;32m      4\u001b[0m \u001b[0mb\u001b[0m \u001b[0;34m=\u001b[0m \u001b[0;36m3\u001b[0m\u001b[0;34m\u001b[0m\u001b[0;34m\u001b[0m\u001b[0m\n\u001b[1;32m      5\u001b[0m \u001b[0mprint\u001b[0m\u001b[0;34m(\u001b[0m\u001b[0mcalc\u001b[0m\u001b[0;34m.\u001b[0m\u001b[0madd\u001b[0m\u001b[0;34m(\u001b[0m\u001b[0ma\u001b[0m\u001b[0;34m,\u001b[0m\u001b[0mb\u001b[0m\u001b[0;34m)\u001b[0m\u001b[0;34m)\u001b[0m\u001b[0;34m\u001b[0m\u001b[0;34m\u001b[0m\u001b[0m\n",
            "\u001b[0;31mModuleNotFoundError\u001b[0m: No module named 'calc'",
            "",
            "\u001b[0;31m---------------------------------------------------------------------------\u001b[0;32m\nNOTE: If your import is failing due to a missing package, you can\nmanually install dependencies using either !pip or !apt.\n\nTo view examples of installing some common dependencies, click the\n\"Open Examples\" button below.\n\u001b[0;31m---------------------------------------------------------------------------\u001b[0m\n"
          ],
          "errorDetails": {
            "actions": [
              {
                "action": "open_url",
                "actionText": "Open Examples",
                "url": "/notebooks/snippets/importing_libraries.ipynb"
              }
            ]
          }
        }
      ]
    },
    {
      "cell_type": "code",
      "source": [],
      "metadata": {
        "id": "Q9U2qSNgM1Zz"
      },
      "execution_count": null,
      "outputs": []
    },
    {
      "cell_type": "code",
      "source": [],
      "metadata": {
        "id": "jv0Kk718M1Wb"
      },
      "execution_count": null,
      "outputs": []
    }
  ]
}